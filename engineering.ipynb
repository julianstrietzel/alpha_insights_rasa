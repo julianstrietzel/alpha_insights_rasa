{
 "cells": [
  {
   "metadata": {
    "ExecuteTime": {
     "end_time": "2024-06-16T15:28:56.036750Z",
     "start_time": "2024-06-16T15:28:56.034078Z"
    }
   },
   "cell_type": "code",
   "source": "",
   "id": "27bf488a8d25bdda",
   "outputs": [],
   "execution_count": 51
  },
  {
   "cell_type": "code",
   "id": "initial_id",
   "metadata": {
    "collapsed": true,
    "ExecuteTime": {
     "end_time": "2024-06-16T15:28:56.109939Z",
     "start_time": "2024-06-16T15:28:56.102533Z"
    }
   },
   "source": [
    "\n",
    "\n",
    "patient_details = {\n",
    "    \"health\": \"good\",\n",
    "    \"geo\": \"9384z5bj\",\n",
    "    \"user_id\": \"25601\",\n",
    "    \"nickname\": \"testuser\",\n",
    "    \"title\": \"testtitle\",\n",
    "    \"home_longitude\": \"0.0\",\n",
    "    \"home_latitude\": \"0.0\",\n",
    "    \"birthday\": \"2020-01-01\",\n",
    "    \"sex\": \"FEMALE\",\n",
    "    \"medical_preconditions\": \"\",\n",
    "}\n",
    "\n",
    "user_id = patient_details[\"user_id\"]\n",
    "zeitspanne = \"Monat\"\n",
    "timespan = {\"Tag\": \"day\", \"Woche\": \"week\", \"Monat\": \"month\", \"Jahr\": \"year\"}[zeitspanne]\n",
    "change_date = \"2021-01-01\"\n",
    "\n",
    "print(user_id)\n",
    "\n",
    "direction = \"über\"  # \"über\" or \"unter\"\n",
    "typ = None  # \"systolisch\", \"diastolisch\" or None\n",
    "limit = 80  # integer value or 0\n",
    "\n"
   ],
   "outputs": [
    {
     "name": "stdout",
     "output_type": "stream",
     "text": [
      "25601\n"
     ]
    }
   ],
   "execution_count": 52
  },
  {
   "metadata": {
    "ExecuteTime": {
     "end_time": "2024-06-16T15:28:56.187165Z",
     "start_time": "2024-06-16T15:28:56.182916Z"
    }
   },
   "cell_type": "code",
   "source": [
    "class MockDispatcher:\n",
    "    def __init__(self):\n",
    "        pass\n",
    "\n",
    "    def utter_message(self, message):\n",
    "        print(message)\n",
    "\n",
    "    def utter_message(self, image):\n",
    "        print(image)\n",
    "\n",
    "\n",
    "dispatcher = MockDispatcher()"
   ],
   "id": "df6068c3f7e82e8d",
   "outputs": [],
   "execution_count": 53
  },
  {
   "metadata": {
    "ExecuteTime": {
     "end_time": "2024-06-16T15:28:56.220875Z",
     "start_time": "2024-06-16T15:28:56.216862Z"
    }
   },
   "cell_type": "code",
   "source": [
    "if timespan:\n",
    "    date_filter = (\n",
    "        f\"AND CAST(recorded_at AS timestamp) >= NOW() - INTERVAL '3 {timespan}'\"\n",
    "    )\n",
    "elif change_date:\n",
    "    date_filter = f\"AND CAST(recorded_at AS timestamp) >= '{change_date}'\"\n",
    "else:\n",
    "    date_filter = (\n",
    "        f\"AND CAST(recorded_at AS timestamp) >= NOW() - INTERVAL '3 {timespan}'\"\n",
    "    )"
   ],
   "id": "f05512e4fba23a43",
   "outputs": [],
   "execution_count": 54
  },
  {
   "metadata": {
    "ExecuteTime": {
     "end_time": "2024-06-16T15:28:56.237151Z",
     "start_time": "2024-06-16T15:28:56.233468Z"
    }
   },
   "cell_type": "code",
   "source": [
    "query = f\"\"\"\n",
    "                SELECT\n",
    "                    systolic,\n",
    "                    diastolic,\n",
    "                    pulse,\n",
    "                    recorded_at\n",
    "                FROM \n",
    "                    bloodpressure\n",
    "                WHERE \n",
    "                    user_id = {user_id}\n",
    "                    {date_filter}\n",
    "            \"\"\""
   ],
   "id": "807b573f9625613a",
   "outputs": [],
   "execution_count": 55
  },
  {
   "metadata": {
    "ExecuteTime": {
     "end_time": "2024-06-16T15:28:56.273365Z",
     "start_time": "2024-06-16T15:28:56.261386Z"
    }
   },
   "cell_type": "code",
   "source": [
    "from actions.utils.db_utils import DBHandler\n",
    "\n",
    "results = DBHandler().execute_query(query)\n",
    "results"
   ],
   "id": "9cb1e4fd7ead09b8",
   "outputs": [
    {
     "name": "stdout",
     "output_type": "stream",
     "text": [
      "Executing query to database: \n",
      "                SELECT\n",
      "                    systolic,\n",
      "                    diastolic,\n",
      "                    pulse,\n",
      "                    recorded_at\n",
      "                FROM \n",
      "                    bloodpressure\n",
      "                WHERE \n",
      "                    user_id = 25601\n",
      "                    AND CAST(recorded_at AS timestamp) >= NOW() - INTERVAL '3 month'\n",
      "            \n"
     ]
    },
    {
     "data": {
      "text/plain": [
       "[(118, 78, 68, '2024-04-28 11:28:00.803334'),\n",
       " (135, 66, 65, '2024-03-17 07:06:48.007571'),\n",
       " (138, 69, 65, '2024-03-18 07:00:54.052326'),\n",
       " (107, 57, 67, '2024-03-19 07:06:51.440792'),\n",
       " (92, 53, 65, '2024-03-20 07:07:02.418874'),\n",
       " (111, 62, 64, '2024-03-23 07:11:35.092762'),\n",
       " (125, 63, 64, '2024-03-24 07:01:46.198838'),\n",
       " (144, 73, 61, '2024-03-25 07:02:10.862496'),\n",
       " (151, 73, 64, '2024-03-26 07:01:45.393817'),\n",
       " (174, 89, 63, '2024-03-27 07:01:00.567159'),\n",
       " (117, 61, 61, '2024-03-28 07:30:14.778453'),\n",
       " (134, 73, 62, '2024-03-29 07:45:16.170661'),\n",
       " (127, 68, 64, '2024-03-30 07:01:10.262859'),\n",
       " (140, 72, 62, '2024-04-01 07:01:38.267787'),\n",
       " (131, 69, 65, '2024-04-04 07:18:11.807233'),\n",
       " (122, 69, 64, '2024-04-05 07:05:23.112214'),\n",
       " (114, 57, 58, '2024-04-06 07:58:18.893213'),\n",
       " (145, 72, 60, '2024-04-07 07:14:26.712911'),\n",
       " (112, 62, 67, '2024-04-08 07:01:06.590836'),\n",
       " (142, 75, 66, '2024-04-09 07:01:06.451644'),\n",
       " (142, 75, 60, '2024-04-11 07:01:08.029084'),\n",
       " (103, 59, 50, '2024-04-16 08:29:05.650777'),\n",
       " (108, 56, 63, '2024-04-17 07:01:02.563212'),\n",
       " (130, 66, 60, '2024-04-18 07:01:13.329363'),\n",
       " (130, 72, 64, '2024-04-20 07:31:57.475599'),\n",
       " (123, 64, 62, '2024-04-21 07:04:30.590667'),\n",
       " (118, 60, 62, '2024-04-24 08:01:00.772872'),\n",
       " (104, 52, 64, '2024-04-25 08:06:44.741071'),\n",
       " (125, 64, 60, '2024-04-26 08:06:21.709894'),\n",
       " (120, 70, 63, '2024-04-27 08:07:00.420317'),\n",
       " (133, 68, 58, '2024-04-28 08:01:26.439008'),\n",
       " (136, 57, 65, '2024-05-04 08:01:41.016565'),\n",
       " (158, 77, 61, '2024-05-05 08:01:17.405449'),\n",
       " (112, 61, 66, '2024-05-06 08:01:03.766290'),\n",
       " (156, 87, 61, '2024-05-07 08:24:50.285655'),\n",
       " (136, 69, 64, '2024-05-09 08:05:22.716299'),\n",
       " (148, 78, 61, '2024-05-13 08:01:10.404872'),\n",
       " (146, 72, 65, '2024-05-14 08:01:06.935044'),\n",
       " (136, 86, 64, '2024-05-16 08:01:06.099304'),\n",
       " (156, 81, 61, '2024-05-19 08:01:04.441819'),\n",
       " (145, 84, 65, '2024-05-20 08:29:53.043385'),\n",
       " (154, 82, 63, '2024-05-21 08:01:07.438615'),\n",
       " (152, 81, 65, '2024-05-23 08:01:08.901995'),\n",
       " (147, 80, 63, '2024-05-24 08:09:08.872487'),\n",
       " (122, 61, 67, '2024-05-25 08:02:01.343072'),\n",
       " (160, 82, 63, '2024-05-27 08:43:04.256180'),\n",
       " (147, 78, 61, '2024-05-29 08:01:50.832617')]"
      ]
     },
     "execution_count": 56,
     "metadata": {},
     "output_type": "execute_result"
    }
   ],
   "execution_count": 56
  },
  {
   "metadata": {
    "ExecuteTime": {
     "end_time": "2024-06-16T15:28:56.303142Z",
     "start_time": "2024-06-16T15:28:56.298420Z"
    }
   },
   "cell_type": "code",
   "source": [
    "from datetime import datetime\n",
    "\n",
    "results = [\n",
    "    (\n",
    "        systolic,\n",
    "        diastolic,\n",
    "        pulse,\n",
    "        datetime.strptime(recorded_at, \"%Y-%m-%d %H:%M:%S.%f\"),\n",
    "    )\n",
    "    for systolic, diastolic, pulse, recorded_at in results\n",
    "]"
   ],
   "id": "f783bc7001db107a",
   "outputs": [],
   "execution_count": 57
  },
  {
   "metadata": {
    "ExecuteTime": {
     "end_time": "2024-06-16T15:28:56.323646Z",
     "start_time": "2024-06-16T15:28:56.320488Z"
    }
   },
   "cell_type": "code",
   "source": "count_bp_measurements = len(results)",
   "id": "fd1816560cea319a",
   "outputs": [],
   "execution_count": 58
  },
  {
   "metadata": {
    "ExecuteTime": {
     "end_time": "2024-06-16T15:28:56.384375Z",
     "start_time": "2024-06-16T15:28:56.379973Z"
    }
   },
   "cell_type": "code",
   "source": [
    "systolic_span = (130, 150)\n",
    "# TODO systolic_span, diastolic_span = get_blood_pressure_spans(tracker, user_id)\n",
    "diastolic_span = (80, 95)\n",
    "if typ == \"systolisch\" and limit:\n",
    "    systolic_span = (limit, limit)\n",
    "elif typ == \"diastolisch\" and limit:\n",
    "    diastolic_span = (limit, limit)\n",
    "#systolic_span, diastolic_span, _ = get_blood_pressure_spans(tracker, patient_details)"
   ],
   "id": "7b1bfed36be37759",
   "outputs": [],
   "execution_count": 59
  },
  {
   "metadata": {
    "ExecuteTime": {
     "end_time": "2024-06-16T15:28:56.469667Z",
     "start_time": "2024-06-16T15:28:56.401408Z"
    }
   },
   "cell_type": "code",
   "source": [
    "def message_bp_measurements(results, typ, span):\n",
    "    of_range_bp_measurements = [\n",
    "        (value, recorded_at)\n",
    "        for value, recorded_at in results\n",
    "        if (value > span[1] and direction == \"über\")\n",
    "           or (value < span[0] and direction == \"unter\")\n",
    "    ]\n",
    "    of_range_quote = round(len(of_range_bp_measurements) / len(results) * 100)\n",
    "    dispatcher.utter_message(f\"Von den {count_bp_measurements} Blutdruckmessungen \" +\n",
    "                             (f\"in den letzten 3 {zeitspanne}en\" if not change_date else (\"seit dem \" + change_date)) +\n",
    "                             \" liegen \" +\n",
    "                             str(len(of_range_bp_measurements)) +\n",
    "                             f\" ({of_range_quote}%) der {typ} Blutdruckmessungen \" +\n",
    "                             str(direction) + \" \" + str(span[1]) +\n",
    "                             \" mmHg.\"\n",
    "                             )\n",
    "\n",
    "    morning_bp_measurements = [\n",
    "        (value, recorded_at)\n",
    "        for value, recorded_at in of_range_bp_measurements\n",
    "        if 6 <= recorded_at.hour < 12\n",
    "    ]\n",
    "    evening_bp_measurements = [\n",
    "        (value, recorded_at)\n",
    "        for value, recorded_at in of_range_bp_measurements\n",
    "        if 16 <= recorded_at.hour < 24\n",
    "    ]\n",
    "    quote_morning = round(len(morning_bp_measurements) / len(of_range_bp_measurements) * 100)\n",
    "    quote_evening = round(len(evening_bp_measurements) / len(of_range_bp_measurements) * 100)\n",
    "    if 60 <= quote_morning < 98:\n",
    "        dispatcher.utter_message(f\"{quote_morning}% dieser Ausreißer wurden am Morgen aufgenommen.\")\n",
    "    elif 60 <= quote_evening < 98:\n",
    "        dispatcher.utter_message(f\"{quote_evening}% dieser Ausreißer wurden am Abend aufgenommen.\")\n",
    "    elif quote_morning >= 95:\n",
    "        dispatcher.utter_message(\"Alle diese Ausreißer wurden am Morgen vorgenommen.\")\n",
    "    elif quote_evening >= 95:\n",
    "        dispatcher.utter_message(\"Alle diese Ausreißer wurden am Abend vorgenommen.\")\n",
    "    else:\n",
    "        dispatcher.utter_message(\"Die Ausreißer sind gleichmäßig über den Tag verteilt.\")\n",
    "\n",
    "\n",
    "if typ == \"systolisch\" or typ not in [\"diastolisch\", \"systolisch\"]:\n",
    "    message_bp_measurements([(systolic, recorded_at) for systolic, diastolic, pulse, recorded_at in results],\n",
    "                            \"systolisch\", systolic_span)\n",
    "if typ == \"diastolisch\" or typ not in [\"diastolisch\", \"systolisch\"]:\n",
    "    message_bp_measurements([(diastolic, recorded_at) for systolic, diastolic, pulse, recorded_at in results],\n",
    "                            \"diastolisch\", diastolic_span)"
   ],
   "id": "980d5c68e84c7b47",
   "outputs": [
    {
     "name": "stdout",
     "output_type": "stream",
     "text": [
      "Von den 47 Blutdruckmessungen seit dem 2021-01-01 liegen 8 (17%) der systolisch Blutdruckmessungen über 150 mmHg.\n",
      "Alle diese Ausreißer wurden am Morgen vorgenommen.\n",
      "Von den 47 Blutdruckmessungen seit dem 2021-01-01 liegen 0 (0%) der diastolisch Blutdruckmessungen über 95 mmHg.\n"
     ]
    },
    {
     "ename": "ZeroDivisionError",
     "evalue": "division by zero",
     "output_type": "error",
     "traceback": [
      "\u001B[0;31m---------------------------------------------------------------------------\u001B[0m",
      "\u001B[0;31mZeroDivisionError\u001B[0m                         Traceback (most recent call last)",
      "Cell \u001B[0;32mIn[60], line 46\u001B[0m\n\u001B[1;32m     43\u001B[0m     message_bp_measurements([(systolic, recorded_at) \u001B[38;5;28;01mfor\u001B[39;00m systolic, diastolic, pulse, recorded_at \u001B[38;5;129;01min\u001B[39;00m results],\n\u001B[1;32m     44\u001B[0m                             \u001B[38;5;124m\"\u001B[39m\u001B[38;5;124msystolisch\u001B[39m\u001B[38;5;124m\"\u001B[39m, systolic_span)\n\u001B[1;32m     45\u001B[0m \u001B[38;5;28;01mif\u001B[39;00m typ \u001B[38;5;241m==\u001B[39m \u001B[38;5;124m\"\u001B[39m\u001B[38;5;124mdiastolisch\u001B[39m\u001B[38;5;124m\"\u001B[39m \u001B[38;5;129;01mor\u001B[39;00m typ \u001B[38;5;129;01mnot\u001B[39;00m \u001B[38;5;129;01min\u001B[39;00m [\u001B[38;5;124m\"\u001B[39m\u001B[38;5;124mdiastolisch\u001B[39m\u001B[38;5;124m\"\u001B[39m, \u001B[38;5;124m\"\u001B[39m\u001B[38;5;124msystolisch\u001B[39m\u001B[38;5;124m\"\u001B[39m]:\n\u001B[0;32m---> 46\u001B[0m     \u001B[43mmessage_bp_measurements\u001B[49m\u001B[43m(\u001B[49m\u001B[43m[\u001B[49m\u001B[43m(\u001B[49m\u001B[43mdiastolic\u001B[49m\u001B[43m,\u001B[49m\u001B[43m \u001B[49m\u001B[43mrecorded_at\u001B[49m\u001B[43m)\u001B[49m\u001B[43m \u001B[49m\u001B[38;5;28;43;01mfor\u001B[39;49;00m\u001B[43m \u001B[49m\u001B[43msystolic\u001B[49m\u001B[43m,\u001B[49m\u001B[43m \u001B[49m\u001B[43mdiastolic\u001B[49m\u001B[43m,\u001B[49m\u001B[43m \u001B[49m\u001B[43mpulse\u001B[49m\u001B[43m,\u001B[49m\u001B[43m \u001B[49m\u001B[43mrecorded_at\u001B[49m\u001B[43m \u001B[49m\u001B[38;5;129;43;01min\u001B[39;49;00m\u001B[43m \u001B[49m\u001B[43mresults\u001B[49m\u001B[43m]\u001B[49m\u001B[43m,\u001B[49m\n\u001B[1;32m     47\u001B[0m \u001B[43m                            \u001B[49m\u001B[38;5;124;43m\"\u001B[39;49m\u001B[38;5;124;43mdiastolisch\u001B[39;49m\u001B[38;5;124;43m\"\u001B[39;49m\u001B[43m,\u001B[49m\u001B[43m \u001B[49m\u001B[43mdiastolic_span\u001B[49m\u001B[43m)\u001B[49m\n",
      "Cell \u001B[0;32mIn[60], line 28\u001B[0m, in \u001B[0;36mmessage_bp_measurements\u001B[0;34m(results, typ, span)\u001B[0m\n\u001B[1;32m     18\u001B[0m morning_bp_measurements \u001B[38;5;241m=\u001B[39m [\n\u001B[1;32m     19\u001B[0m     (value, recorded_at)\n\u001B[1;32m     20\u001B[0m     \u001B[38;5;28;01mfor\u001B[39;00m value, recorded_at \u001B[38;5;129;01min\u001B[39;00m of_range_bp_measurements\n\u001B[1;32m     21\u001B[0m     \u001B[38;5;28;01mif\u001B[39;00m \u001B[38;5;241m6\u001B[39m \u001B[38;5;241m<\u001B[39m\u001B[38;5;241m=\u001B[39m recorded_at\u001B[38;5;241m.\u001B[39mhour \u001B[38;5;241m<\u001B[39m \u001B[38;5;241m12\u001B[39m\n\u001B[1;32m     22\u001B[0m ]\n\u001B[1;32m     23\u001B[0m evening_bp_measurements \u001B[38;5;241m=\u001B[39m [\n\u001B[1;32m     24\u001B[0m     (value, recorded_at)\n\u001B[1;32m     25\u001B[0m     \u001B[38;5;28;01mfor\u001B[39;00m value, recorded_at \u001B[38;5;129;01min\u001B[39;00m of_range_bp_measurements\n\u001B[1;32m     26\u001B[0m     \u001B[38;5;28;01mif\u001B[39;00m \u001B[38;5;241m16\u001B[39m \u001B[38;5;241m<\u001B[39m\u001B[38;5;241m=\u001B[39m recorded_at\u001B[38;5;241m.\u001B[39mhour \u001B[38;5;241m<\u001B[39m \u001B[38;5;241m24\u001B[39m\n\u001B[1;32m     27\u001B[0m ]\n\u001B[0;32m---> 28\u001B[0m quote_morning \u001B[38;5;241m=\u001B[39m \u001B[38;5;28mround\u001B[39m(\u001B[38;5;28;43mlen\u001B[39;49m\u001B[43m(\u001B[49m\u001B[43mmorning_bp_measurements\u001B[49m\u001B[43m)\u001B[49m\u001B[43m \u001B[49m\u001B[38;5;241;43m/\u001B[39;49m\u001B[43m \u001B[49m\u001B[38;5;28;43mlen\u001B[39;49m\u001B[43m(\u001B[49m\u001B[43mof_range_bp_measurements\u001B[49m\u001B[43m)\u001B[49m \u001B[38;5;241m*\u001B[39m \u001B[38;5;241m100\u001B[39m)\n\u001B[1;32m     29\u001B[0m quote_evening \u001B[38;5;241m=\u001B[39m \u001B[38;5;28mround\u001B[39m(\u001B[38;5;28mlen\u001B[39m(evening_bp_measurements) \u001B[38;5;241m/\u001B[39m \u001B[38;5;28mlen\u001B[39m(of_range_bp_measurements) \u001B[38;5;241m*\u001B[39m \u001B[38;5;241m100\u001B[39m)\n\u001B[1;32m     30\u001B[0m \u001B[38;5;28;01mif\u001B[39;00m \u001B[38;5;241m60\u001B[39m \u001B[38;5;241m<\u001B[39m\u001B[38;5;241m=\u001B[39m quote_morning \u001B[38;5;241m<\u001B[39m \u001B[38;5;241m98\u001B[39m:\n",
      "\u001B[0;31mZeroDivisionError\u001B[0m: division by zero"
     ]
    }
   ],
   "execution_count": 60
  },
  {
   "metadata": {
    "ExecuteTime": {
     "end_time": "2024-06-16T15:28:56.472025Z",
     "start_time": "2024-06-16T15:28:56.471862Z"
    }
   },
   "cell_type": "code",
   "source": [
    "filtered_interesting_results = [\n",
    "    (systolic, diastolic, pulse, recorded_at) for systolic, diastolic, pulse, recorded_at in results\n",
    "    if\n",
    "    (systolic > systolic_span[1] and direction == \"über\") or (systolic < systolic_span[0] and direction == \"unter\") or\n",
    "    (diastolic > diastolic_span[1] and direction == \"über\") or (diastolic < diastolic_span[0] and direction == \"unter\")\n",
    "]\n",
    "\n",
    "\n",
    "def get_time_of_day(recorded_at):\n",
    "    if 6 <= recorded_at.hour < 12:\n",
    "        return 'Morgen'\n",
    "    elif 12 <= recorded_at.hour < 16:\n",
    "        return 'Nachmittag'\n",
    "    elif 16 <= recorded_at.hour < 22:\n",
    "        return 'Abend'\n",
    "    elif 22 <= recorded_at.hour < 24 or 0 <= recorded_at.hour < 6:\n",
    "        return 'Nacht'\n"
   ],
   "id": "19a1938f1677c958",
   "outputs": [],
   "execution_count": null
  },
  {
   "metadata": {},
   "cell_type": "code",
   "source": [
    "\n",
    "import pandas as pd\n",
    "import matplotlib.pyplot as plt\n",
    "import seaborn as sns\n",
    "\n",
    "# Sample data for demonstration purposes\n",
    "data = {\n",
    "    'Systolic': [systolic for systolic, diastolic, pulse, recorded_at in results],\n",
    "    'Diastolic': [diastolic for systolic, diastolic, pulse, recorded_at in results],\n",
    "    'Daytime': [get_time_of_day(recorded_at) for systolic, diastolic, pulse, recorded_at in\n",
    "                results]\n",
    "}\n",
    "\n",
    "df = pd.DataFrame(data)\n",
    "\n",
    "# Create scatter plot using seaborn\n",
    "plt.figure(figsize=(10, 6))\n",
    "scatter_plot = sns.scatterplot(data=df, x='Systolic', y='Diastolic', hue='Daytime', style='Daytime', palette='deep')\n",
    "# TODO systolic_span, diastolic_span = get_blood_pressure_spans(tracker, user_id)\n",
    "systolic_span = (130, 150)\n",
    "diastolic_span = (80, 95)\n",
    "plt.title('Blood Pressure Readings Grouped by Daytime - Outliers Only')\n",
    "plt.xlabel('Systolic (mmHg)')\n",
    "plt.ylabel('Diastolic (mmHg)')\n",
    "plt.axvspan(systolic_span[0], systolic_span[1], color='green', alpha=0.1)\n",
    "print(systolic_span, diastolic_span)\n",
    "plt.axhspan(diastolic_span[0], diastolic_span[1], color='green', alpha=0.1)\n",
    "plt.legend(title='Daytime', bbox_to_anchor=(1.05, 1), loc='upper left')\n",
    "plt.grid(True)\n",
    "plt.tight_layout()\n",
    "plt.show()\n"
   ],
   "id": "e05238538cd8ed87",
   "outputs": [],
   "execution_count": null
  },
  {
   "metadata": {},
   "cell_type": "code",
   "source": "",
   "id": "cb86726ce01c28e7",
   "outputs": [],
   "execution_count": null
  },
  {
   "metadata": {
    "ExecuteTime": {
     "end_time": "2024-06-16T15:28:56.497975Z",
     "start_time": "2024-06-16T15:28:56.495049Z"
    }
   },
   "cell_type": "code",
   "source": "",
   "id": "2e8ac38147aa6d8d",
   "outputs": [],
   "execution_count": 60
  },
  {
   "metadata": {},
   "cell_type": "markdown",
   "source": "## details_ausreisser",
   "id": "db73e1a14e96c8c4"
  },
  {
   "metadata": {
    "ExecuteTime": {
     "end_time": "2024-06-16T15:28:56.520363Z",
     "start_time": "2024-06-16T15:28:56.513084Z"
    }
   },
   "cell_type": "code",
   "source": [
    "\n",
    "from actions.utils import utils\n",
    "\n",
    "pretty_change_date = pd.to_datetime(change_date).strftime('%d.%m.%Y')\n",
    "since_date = False  # True\n",
    "# change_date = \"2024-03-01\"\n",
    "data = {\n",
    "    'Datum': [recorded_at for systolic, diastolic, pulse, recorded_at in results],\n",
    "    'Systolisch': [int(systolic) for systolic, diastolic, pulse, recorded_at in results],\n",
    "    'Diastolisch': [int(diastolic) for systolic, diastolic, pulse, recorded_at in results],\n",
    "    'Puls': [int(pulse) for systolic, diastolic, pulse, recorded_at in results],\n",
    "    'Tageszeit_For_Hue': [utils.get_time_of_day(recorded_at) + \" Ausreißer\" for systolic, diastolic, pulse, recorded_at\n",
    "                          in\n",
    "                          results],\n",
    "    'Tageszeit': [utils.get_time_of_day(recorded_at) for systolic, diastolic, pulse, recorded_at in results]\n",
    "\n",
    "}"
   ],
   "id": "26376b3f89c5427d",
   "outputs": [],
   "execution_count": 61
  },
  {
   "metadata": {
    "ExecuteTime": {
     "end_time": "2024-06-16T15:29:17.025236Z",
     "start_time": "2024-06-16T15:29:15.499164Z"
    }
   },
   "cell_type": "code",
   "source": [
    "import pathlib\n",
    "import pandas as pd\n",
    "import matplotlib.pyplot as plt\n",
    "import matplotlib.transforms as transforms\n",
    "import seaborn as sns\n",
    "\n",
    "df = pd.DataFrame(data)\n",
    "\n",
    "\n",
    "# Function to detect outliers\n",
    "def detect_outliers(series):\n",
    "    q1 = series.quantile(0.25)\n",
    "    q3 = series.quantile(0.75)\n",
    "    iqr = q3 - q1\n",
    "    lower_bound = q1 - 0.5 * iqr\n",
    "    upper_bound = q3 + 0.5 * iqr\n",
    "    return (series < lower_bound) | (series > upper_bound)\n",
    "\n",
    "\n",
    "# Add outlier columns\n",
    "df['Systolische Ausreißer'] = detect_outliers(df['Systolisch'])\n",
    "df['Diastolische Ausreißer'] = detect_outliers(df['Diastolisch'])\n",
    "\n",
    "print(timespan.capitalize()[0])\n",
    "# Group by month for the boxplot\n",
    "df[zeitspanne.capitalize()] = df['Datum'].dt.to_period(timespan.capitalize()[0]).astype(str)\n",
    "\n",
    "\n",
    "def plot_box_and_outliers(typ=typ):\n",
    "    plt.figure(figsize=(10, 6))\n",
    "    sns.boxplot(x=zeitspanne.capitalize(), y=typ.capitalize(), data=df)\n",
    "    sns.scatterplot(x=zeitspanne.capitalize(), y=typ.capitalize(), data=df[df[f'{typ.capitalize()}e Ausreißer']],\n",
    "                    hue='Tageszeit_For_Hue', palette='rocket')\n",
    "    plt.title(f'{typ.capitalize()}er Blutdruck Boxplot nach {zeitspanne.capitalize()}')\n",
    "\n",
    "    if since_date:\n",
    "        df[\"Änderungsdatum\"] = pd.to_datetime(change_date).to_period(timespan.capitalize()[0])\n",
    "        vline = plt.axvline(x=df[\"Änderungsdatum\"].astype(str).iloc[0], color='red', linestyle='--',\n",
    "                            label='Änderungsdatum' + f' ({change_date})')\n",
    "        ax = plt.gca()\n",
    "        trans = transforms.blended_transform_factory(ax.transData, ax.transAxes)\n",
    "        vline.set_transform(trans + transforms.ScaledTranslation(-20 / 72., 0, plt.gcf().dpi_scale_trans))\n",
    "\n",
    "        plt.legend()\n",
    "        # filename = os.getcwd() + f'tmp_{typ}_boxplot_{zeitspanne}_and_outliers_' + str(datetime.now()) + \".png\"\n",
    "    filename = str(pathlib.Path().parent.absolute() / (f'tmp_{typ}_boxplot_{zeitspanne}_and_outliers_' + str(\n",
    "        datetime.now()) + \".png\"))\n",
    "    plt.savefig(filename)\n",
    "    return filename\n",
    "\n",
    "\n",
    "if typ in [\"diastolisch\", \"systolisch\"]:\n",
    "    dispatcher.utter_message(image=plot_box_and_outliers())\n",
    "else:\n",
    "    dispatcher.utter_message(image=plot_box_and_outliers(\"systolisch\"))\n",
    "    dispatcher.utter_message(image=plot_box_and_outliers(\"diastolisch\"))\n"
   ],
   "id": "7c190ea61cef2513",
   "outputs": [
    {
     "name": "stdout",
     "output_type": "stream",
     "text": [
      "M\n",
      "/Users/julianstrietzel/personal/nlpseba/rasa2/tmp_systolisch_boxplot_Monat_and_outliers_2024-06-16 17:29:15.677423.png\n",
      "/Users/julianstrietzel/personal/nlpseba/rasa2/tmp_diastolisch_boxplot_Monat_and_outliers_2024-06-16 17:29:16.208495.png\n"
     ]
    },
    {
     "data": {
      "text/plain": [
       "<Figure size 1000x600 with 1 Axes>"
      ],
      "image/png": "[encoded data removed]"
     },
     "metadata": {},
     "output_type": "display_data"
    },
    {
     "data": {
      "text/plain": [
       "<Figure size 1000x600 with 1 Axes>"
      ],
      "image/png": "[encoded data removed]"
     },
     "metadata": {},
     "output_type": "display_data"
    }
   ],
   "execution_count": 68
  },
  {
   "metadata": {
    "ExecuteTime": {
     "end_time": "2024-06-16T15:28:57.391598Z",
     "start_time": "2024-06-16T15:28:57.372313Z"
    }
   },
   "cell_type": "code",
   "source": [
    "\n",
    "\n",
    "from actions.utils.utils import at_the_last_prefix\n",
    "\n",
    "current_date_one_timespan_ago = (\n",
    "        pd.to_datetime(datetime.now()) - pd.DateOffset(months=1 if zeitspanne == \"Monat\" else 1,\n",
    "                                                       days=1 if zeitspanne == \"Tag\" else 0,\n",
    "                                                       weeks=1 if zeitspanne == \"Woche\" else 0,\n",
    "                                                       years=1 if zeitspanne == \"Jahr\" else 0)).strftime(\n",
    "    \"%Y-%m-%d\")\n",
    "df_recently = df[df['Datum'] >= current_date_one_timespan_ago] if not since_date else df[\n",
    "    df['Datum'] >= pd.to_datetime(change_date)]\n",
    "\n",
    "# In der letzten Woche waren 50% der systolischen und 30% der diastolischen Messungen extreme Ausreißer.\n",
    "if len(df_recently) > 0:\n",
    "    sys_outliers_quote = round(\n",
    "        len(df_recently[df_recently['Systolische Ausreißer']]) / len(df_recently) * 100)\n",
    "    dia_outliers_quote = round(len(df_recently[df_recently['Diastolische Ausreißer']]) / len(df_recently) * 100)\n",
    "    dynamic_message = (\n",
    "                          at_the_last_prefix[zeitspanne]\n",
    "                          if not since_date\n",
    "                          else f\"Seit dem {pd.to_datetime(change_date).strftime('%d.%m.%Y')}\"\n",
    "                      ) + (\n",
    "                          f\" gab es keine Ausreißer.\"\n",
    "                          if sys_outliers_quote == 0 and dia_outliers_quote == 0\n",
    "                          else (\n",
    "                                  \" waren \" + str(sys_outliers_quote) + \"% der systolischen und \"\n",
    "                                  + str(dia_outliers_quote)\n",
    "                                  + \"% der diastolischen Messungen extreme Ausreißer.\"\n",
    "                          )\n",
    "                      )\n",
    "    dispatcher.utter_message(dynamic_message)\n",
    "else:\n",
    "    dispatcher.utter_message(\n",
    "        \"Es gibt keine Messungen \" + (\n",
    "            at_the_last_prefix[zeitspanne].lower() + \".\"\n",
    "            if not since_date\n",
    "            else \"seit dem \" + pretty_change_date + \".\"\n",
    "        )\n",
    "    )\n"
   ],
   "id": "7e1e1ea5b63f5baa",
   "outputs": [
    {
     "name": "stdout",
     "output_type": "stream",
     "text": [
      "Im letzten Monat waren 11% der systolischen und 11% der diastolischen Messungen extreme Ausreißer.\n"
     ]
    }
   ],
   "execution_count": 63
  },
  {
   "metadata": {
    "ExecuteTime": {
     "end_time": "2024-06-16T15:28:57.413196Z",
     "start_time": "2024-06-16T15:28:57.394694Z"
    }
   },
   "cell_type": "code",
   "source": [
    "import numpy as np\n",
    "\n",
    "# set half of the sys outliers Tageszeit to Abend\n",
    "data = {\n",
    "    'Datum': pd.date_range(start='2024-05-16', periods=9, freq='D').to_series() + pd.to_timedelta(\n",
    "        np.random.randint(0, 86400, size=9), unit='s'),\n",
    "    'Systolisch': [136, 156, 145, 154, 152, 147, 122, 160, 147],\n",
    "    'Diastolisch': [86, 81, 84, 82, 81, 80, 61, 82, 78],\n",
    "    'Puls': [64, 61, 65, 63, 65, 63, 67, 63, 61],\n",
    "    'Tageszeit_For_Hue': ['Morgen Ausreißer'] * 9,\n",
    "    'Tageszeit': ['Morgen', 'Abend', 'Morgen', 'Abend', 'Morgen', 'Abend', 'Morgen', 'Abend', 'Morgen'],\n",
    "    'Systolische Ausreißer': [\n",
    "        True, True, False, True, True, True, False, True, True],\n",
    "    'Diastolische Ausreißer': [True, True, False, True, True, True, False, True, False],\n",
    "    'Monat': ['2024-05'] * 9\n",
    "}\n",
    "\n",
    "df_recently = pd.DataFrame(data)\n",
    "recent_sys_outliers = df_recently[df_recently['Systolische Ausreißer']]\n",
    "recent_dia_outliers = df_recently[df_recently['Diastolische Ausreißer']]\n",
    "\n",
    "if len(df_recently[\"Tageszeit\"].unique()) > 1:\n",
    "    most_common_tageszeit = (pd.concat([recent_sys_outliers, recent_dia_outliers]))[\"Tageszeit\"].mode()[0]\n",
    "    count_sys_outliers = len(recent_sys_outliers)\n",
    "    count_sys_at_tageszeit = len(recent_sys_outliers[recent_sys_outliers[\"Tageszeit\"] == most_common_tageszeit])\n",
    "    count_dia_outliers = len(recent_dia_outliers)\n",
    "    count_dia_at_tageszeit = len(recent_dia_outliers[recent_dia_outliers[\"Tageszeit\"] == most_common_tageszeit])\n",
    "    dispatcher.utter_message(\n",
    "        f\"{round(count_sys_at_tageszeit / count_sys_outliers * 100)}% der systolischen und \" +\n",
    "        f\"{round(count_dia_at_tageszeit / count_dia_outliers * 100)}% der diastolischen Ausreißer \" +\n",
    "        \"wurden am \" + most_common_tageszeit.capitalize() + \" aufgenommen.\")\n",
    "\n",
    "else:\n",
    "    dispatcher.utter_message(\n",
    "        \"Alle Ausreißer wurden am \" + df[\"Tageszeit\"].unique()[0].capitalize() + \" aufgenommen.\")"
   ],
   "id": "40dfbd4e7f33d2cb",
   "outputs": [
    {
     "name": "stdout",
     "output_type": "stream",
     "text": [
      "57% der systolischen und 67% der diastolischen Ausreißer wurden am Abend aufgenommen.\n"
     ]
    }
   ],
   "execution_count": 64
  },
  {
   "metadata": {
    "ExecuteTime": {
     "end_time": "2024-06-16T15:28:57.430581Z",
     "start_time": "2024-06-16T15:28:57.417349Z"
    }
   },
   "cell_type": "code",
   "source": [
    "recent_sys_outliers\n",
    "df_recently[\"sys_above\"] = recent_sys_outliers[\"Systolisch\"] > systolic_span[1]\n",
    "df_recently[\"dia_above\"] = recent_dia_outliers[\"Diastolisch\"] > diastolic_span[1]\n",
    "df_recently[\"sys_below\"] = recent_sys_outliers[\"Systolisch\"] < systolic_span[0]\n",
    "df_recently[\"dia_below\"] = recent_dia_outliers[\"Diastolisch\"] < diastolic_span[0]\n",
    "perc_above_sys = df_recently[\"sys_above\"].sum() / len(recent_sys_outliers) * 100\n",
    "perc_above_dia = df_recently[\"dia_above\"].sum() / len(recent_dia_outliers) * 100\n",
    "perc_below_sys = df_recently[\"sys_below\"].sum() / len(recent_sys_outliers) * 100\n",
    "perc_below_dia = df_recently[\"dia_below\"].sum() / len(recent_dia_outliers) * 100\n",
    "\n",
    "if perc_above_sys > 0 or perc_below_sys > 0:\n",
    "    dispatcher.utter_message(\n",
    "        f\"{round(max(perc_above_sys, perc_below_sys))}% der systolischen Ausreißer liegen {f'über {systolic_span[1]} mmHg' if perc_above_sys > perc_below_sys else f'unter {systolic_span[0]} mmHg'}.\")\n",
    "else:\n",
    "    dispatcher.utter_message(\"Keine systolischen Ausreißer liegen außerhalb des Zielkorridors.\")\n",
    "\n",
    "if perc_above_dia > 0 or perc_below_dia > 0:\n",
    "    dispatcher.utter_message(\n",
    "        f\"{round(max(perc_above_dia, perc_below_dia))}% der diastolischen Ausreißer liegen {f'über {diastolic_span[1]} mmHg' if perc_above_dia > perc_below_dia else f'unter {diastolic_span[0]} mmHg'}.\")\n",
    "else:\n",
    "    dispatcher.utter_message(\"Keine diastolischen Ausreißer liegen außerhalb des Zielkorridors.\")\n"
   ],
   "id": "39f49787633fd464",
   "outputs": [
    {
     "name": "stdout",
     "output_type": "stream",
     "text": [
      "57% der systolischen Ausreißer liegen über 150 mmHg.\n",
      "Keine diastolischen Ausreißer liegen außerhalb des Zielkorridors.\n"
     ]
    }
   ],
   "execution_count": 65
  },
  {
   "metadata": {
    "ExecuteTime": {
     "end_time": "2024-06-16T15:28:57.437646Z",
     "start_time": "2024-06-16T15:28:57.433088Z"
    }
   },
   "cell_type": "code",
   "source": [
    "if since_date:\n",
    "    query = f\"\"\"\n",
    "                SELECT\n",
    "                    systolic,\n",
    "                    diastolic,\n",
    "                    pulse,\n",
    "                    recorded_at\n",
    "                FROM \n",
    "                    bloodpressure\n",
    "                WHERE \n",
    "                    user_id = {user_id}\n",
    "                    AND CAST(recorded_at AS timestamp) <= '{change_date}'\n",
    "            \"\"\""
   ],
   "id": "61990644e5f8a7fb",
   "outputs": [],
   "execution_count": 66
  },
  {
   "metadata": {
    "ExecuteTime": {
     "end_time": "2024-06-16T15:28:57.461058Z",
     "start_time": "2024-06-16T15:28:57.440086Z"
    }
   },
   "cell_type": "code",
   "source": [
    "data = {\n",
    "    'Datum': [recorded_at for systolic, diastolic, pulse, recorded_at in results],\n",
    "    'Systolisch': [int(systolic) for systolic, diastolic, pulse, recorded_at in results],\n",
    "    'Diastolisch': [int(diastolic) for systolic, diastolic, pulse, recorded_at in results],\n",
    "    'Puls': [int(pulse) for systolic, diastolic, pulse, recorded_at in results],\n",
    "    'Tageszeit_For_Hue': [utils.get_time_of_day(recorded_at) + \" Ausreißer\" for systolic, diastolic, pulse, recorded_at\n",
    "                          in\n",
    "                          results],\n",
    "    'Tageszeit': [utils.get_time_of_day(recorded_at) for systolic, diastolic, pulse, recorded_at in results]\n",
    "\n",
    "}\n",
    "\n",
    "df_before = pd.DataFrame(data)\n",
    "sys_percent_after = len(recent_sys_outliers) / len(df_recently) * 100\n",
    "dia_percent_after = len(recent_dia_outliers) / len(df_recently) * 100\n",
    "\n",
    "# Add outlier columns\n",
    "df_before['Systolische Ausreißer'] = detect_outliers(df_before['Systolisch'])\n",
    "df_before['Diastolische Ausreißer'] = detect_outliers(df_before['Diastolisch'])\n",
    "\n",
    "sys_percent_before = len(df_before[df_before['Systolische Ausreißer']]) / len(df_before) * 100\n",
    "dia_percent_before = len(df_before[df_before['Diastolische Ausreißer']]) / len(df_before) * 100\n",
    "\n",
    "dispatcher.utter_message(\n",
    "    f\"Die Quote der Ausreißer im systolischen Blutwert hat sich seit dem {pretty_change_date} von {round(sys_percent_before)}% auf {round(sys_percent_after)}% \" +\n",
    "    (\"erhöht.\" if sys_percent_after > sys_percent_before else \"verringert.\")\n",
    ")\n",
    "dispatcher.utter_message(\n",
    "    f\"Die Quote der Ausreißer im diastolischen Blutwert hat sich seit dem {pretty_change_date} von {round(dia_percent_before)}% auf {round(dia_percent_after)}% \" +\n",
    "    (\"erhöht.\" if dia_percent_after > dia_percent_before else \"verringert.\")\n",
    ")\n",
    "\n",
    "\n"
   ],
   "id": "81e9649f63141187",
   "outputs": [
    {
     "name": "stdout",
     "output_type": "stream",
     "text": [
      "Die Quote der Ausreißer im systolischen Blutwert hat sich seit dem 01.01.2021 von 11% auf 78% erhöht.\n",
      "Die Quote der Ausreißer im diastolischen Blutwert hat sich seit dem 01.01.2021 von 11% auf 67% erhöht.\n"
     ]
    }
   ],
   "execution_count": 67
  },
  {
   "metadata": {
    "ExecuteTime": {
     "end_time": "2024-06-16T15:28:57.466557Z",
     "start_time": "2024-06-16T15:28:57.463500Z"
    }
   },
   "cell_type": "code",
   "source": "",
   "id": "a9062f32f4ba01a",
   "outputs": [],
   "execution_count": 67
  }
 ],
 "metadata": {
  "kernelspec": {
   "display_name": "Python 3",
   "language": "python",
   "name": "python3"
  },
  "language_info": {
   "codemirror_mode": {
    "name": "ipython",
    "version": 2
   },
   "file_extension": ".py",
   "mimetype": "text/x-python",
   "name": "python",
   "nbconvert_exporter": "python",
   "pygments_lexer": "ipython2",
   "version": "2.7.6"
  }
 },
 "nbformat": 4,
 "nbformat_minor": 5
}
